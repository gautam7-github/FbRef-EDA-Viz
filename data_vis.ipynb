{
 "cells": [
  {
   "cell_type": "code",
   "execution_count": 2,
   "metadata": {},
   "outputs": [],
   "source": [
    "import pandas as pd\n",
    "import numpy as np\n",
    "import matplotlib.pyplot as plt\n",
    "import seaborn as sns\n",
    "%matplotlib inline"
   ]
  },
  {
   "cell_type": "code",
   "execution_count": 3,
   "metadata": {},
   "outputs": [],
   "source": [
    "df = pd.read_csv('./scraped_data/0.csv')"
   ]
  },
  {
   "cell_type": "code",
   "execution_count": 7,
   "metadata": {},
   "outputs": [
    {
     "data": {
      "text/html": [
       "<div>\n",
       "<style scoped>\n",
       "    .dataframe tbody tr th:only-of-type {\n",
       "        vertical-align: middle;\n",
       "    }\n",
       "\n",
       "    .dataframe tbody tr th {\n",
       "        vertical-align: top;\n",
       "    }\n",
       "\n",
       "    .dataframe thead th {\n",
       "        text-align: right;\n",
       "    }\n",
       "</style>\n",
       "<table border=\"1\" class=\"dataframe\">\n",
       "  <thead>\n",
       "    <tr style=\"text-align: right;\">\n",
       "      <th></th>\n",
       "      <th>Rk</th>\n",
       "      <th>Squad</th>\n",
       "      <th>MP</th>\n",
       "      <th>W</th>\n",
       "      <th>D</th>\n",
       "      <th>L</th>\n",
       "      <th>GF</th>\n",
       "      <th>GA</th>\n",
       "      <th>GD</th>\n",
       "      <th>Pts</th>\n",
       "      <th>Pts/MP</th>\n",
       "      <th>xG</th>\n",
       "      <th>xGA</th>\n",
       "      <th>xGD</th>\n",
       "      <th>xGD/90</th>\n",
       "      <th>Attendance</th>\n",
       "      <th>Top Team Scorer</th>\n",
       "      <th>Goalkeeper</th>\n",
       "      <th>Notes</th>\n",
       "    </tr>\n",
       "  </thead>\n",
       "  <tbody>\n",
       "    <tr>\n",
       "      <th>0</th>\n",
       "      <td>1</td>\n",
       "      <td>Manchester City</td>\n",
       "      <td>38</td>\n",
       "      <td>29</td>\n",
       "      <td>6</td>\n",
       "      <td>3</td>\n",
       "      <td>99</td>\n",
       "      <td>26</td>\n",
       "      <td>73</td>\n",
       "      <td>93</td>\n",
       "      <td>2.45</td>\n",
       "      <td>89.0</td>\n",
       "      <td>27.2</td>\n",
       "      <td>61.9</td>\n",
       "      <td>1.63</td>\n",
       "      <td>52774</td>\n",
       "      <td>Kevin De Bruyne - 15</td>\n",
       "      <td>Ederson</td>\n",
       "      <td>→ Champions League via league finish</td>\n",
       "    </tr>\n",
       "    <tr>\n",
       "      <th>1</th>\n",
       "      <td>2</td>\n",
       "      <td>Liverpool</td>\n",
       "      <td>38</td>\n",
       "      <td>28</td>\n",
       "      <td>8</td>\n",
       "      <td>2</td>\n",
       "      <td>94</td>\n",
       "      <td>26</td>\n",
       "      <td>68</td>\n",
       "      <td>92</td>\n",
       "      <td>2.42</td>\n",
       "      <td>89.2</td>\n",
       "      <td>34.3</td>\n",
       "      <td>55.0</td>\n",
       "      <td>1.45</td>\n",
       "      <td>53352</td>\n",
       "      <td>Mohamed Salah - 23</td>\n",
       "      <td>Alisson</td>\n",
       "      <td>→ Champions League via league finish</td>\n",
       "    </tr>\n",
       "    <tr>\n",
       "      <th>2</th>\n",
       "      <td>3</td>\n",
       "      <td>Chelsea</td>\n",
       "      <td>38</td>\n",
       "      <td>21</td>\n",
       "      <td>11</td>\n",
       "      <td>6</td>\n",
       "      <td>76</td>\n",
       "      <td>33</td>\n",
       "      <td>43</td>\n",
       "      <td>74</td>\n",
       "      <td>1.95</td>\n",
       "      <td>67.2</td>\n",
       "      <td>36.0</td>\n",
       "      <td>31.3</td>\n",
       "      <td>0.82</td>\n",
       "      <td>36443</td>\n",
       "      <td>Mason Mount - 11</td>\n",
       "      <td>Edouard Mendy</td>\n",
       "      <td>→ Champions League via league finish</td>\n",
       "    </tr>\n",
       "    <tr>\n",
       "      <th>3</th>\n",
       "      <td>4</td>\n",
       "      <td>Tottenham</td>\n",
       "      <td>38</td>\n",
       "      <td>22</td>\n",
       "      <td>5</td>\n",
       "      <td>11</td>\n",
       "      <td>69</td>\n",
       "      <td>40</td>\n",
       "      <td>29</td>\n",
       "      <td>71</td>\n",
       "      <td>1.87</td>\n",
       "      <td>65.1</td>\n",
       "      <td>39.4</td>\n",
       "      <td>25.8</td>\n",
       "      <td>0.68</td>\n",
       "      <td>56523</td>\n",
       "      <td>Son Heung-min - 23</td>\n",
       "      <td>Hugo Lloris</td>\n",
       "      <td>→ Champions League via league finish</td>\n",
       "    </tr>\n",
       "    <tr>\n",
       "      <th>4</th>\n",
       "      <td>5</td>\n",
       "      <td>Arsenal</td>\n",
       "      <td>38</td>\n",
       "      <td>22</td>\n",
       "      <td>3</td>\n",
       "      <td>13</td>\n",
       "      <td>61</td>\n",
       "      <td>48</td>\n",
       "      <td>13</td>\n",
       "      <td>69</td>\n",
       "      <td>1.82</td>\n",
       "      <td>59.9</td>\n",
       "      <td>47.1</td>\n",
       "      <td>12.8</td>\n",
       "      <td>0.34</td>\n",
       "      <td>59665</td>\n",
       "      <td>Bukayo Saka - 11</td>\n",
       "      <td>Aaron Ramsdale</td>\n",
       "      <td>→ Europa League via league finish</td>\n",
       "    </tr>\n",
       "  </tbody>\n",
       "</table>\n",
       "</div>"
      ],
      "text/plain": [
       "   Rk            Squad  MP   W   D   L  GF  GA  GD  Pts  Pts/MP    xG   xGA  \\\n",
       "0   1  Manchester City  38  29   6   3  99  26  73   93    2.45  89.0  27.2   \n",
       "1   2        Liverpool  38  28   8   2  94  26  68   92    2.42  89.2  34.3   \n",
       "2   3          Chelsea  38  21  11   6  76  33  43   74    1.95  67.2  36.0   \n",
       "3   4        Tottenham  38  22   5  11  69  40  29   71    1.87  65.1  39.4   \n",
       "4   5          Arsenal  38  22   3  13  61  48  13   69    1.82  59.9  47.1   \n",
       "\n",
       "    xGD  xGD/90  Attendance       Top Team Scorer      Goalkeeper  \\\n",
       "0  61.9    1.63       52774  Kevin De Bruyne - 15         Ederson   \n",
       "1  55.0    1.45       53352    Mohamed Salah - 23         Alisson   \n",
       "2  31.3    0.82       36443      Mason Mount - 11   Edouard Mendy   \n",
       "3  25.8    0.68       56523    Son Heung-min - 23     Hugo Lloris   \n",
       "4  12.8    0.34       59665      Bukayo Saka - 11  Aaron Ramsdale   \n",
       "\n",
       "                                  Notes  \n",
       "0  → Champions League via league finish  \n",
       "1  → Champions League via league finish  \n",
       "2  → Champions League via league finish  \n",
       "3  → Champions League via league finish  \n",
       "4     → Europa League via league finish  "
      ]
     },
     "execution_count": 7,
     "metadata": {},
     "output_type": "execute_result"
    }
   ],
   "source": [
    "df.head()"
   ]
  },
  {
   "cell_type": "markdown",
   "metadata": {},
   "source": [
    "### Splitting Top Scorer Column into Scorer and Goals"
   ]
  },
  {
   "cell_type": "code",
   "execution_count": 8,
   "metadata": {},
   "outputs": [],
   "source": [
    "df[['Top Scorer (Name)', 'Top Scorer (Goals)']] = df['Top Team Scorer'].str.split(' - ', 1, expand=True)\n",
    "df.drop(labels=['Top Team Scorer','Notes'],axis=1,inplace=True)"
   ]
  },
  {
   "cell_type": "code",
   "execution_count": 9,
   "metadata": {},
   "outputs": [
    {
     "data": {
      "text/html": [
       "<div>\n",
       "<style scoped>\n",
       "    .dataframe tbody tr th:only-of-type {\n",
       "        vertical-align: middle;\n",
       "    }\n",
       "\n",
       "    .dataframe tbody tr th {\n",
       "        vertical-align: top;\n",
       "    }\n",
       "\n",
       "    .dataframe thead th {\n",
       "        text-align: right;\n",
       "    }\n",
       "</style>\n",
       "<table border=\"1\" class=\"dataframe\">\n",
       "  <thead>\n",
       "    <tr style=\"text-align: right;\">\n",
       "      <th></th>\n",
       "      <th>Rk</th>\n",
       "      <th>Squad</th>\n",
       "      <th>MP</th>\n",
       "      <th>W</th>\n",
       "      <th>D</th>\n",
       "      <th>L</th>\n",
       "      <th>GF</th>\n",
       "      <th>GA</th>\n",
       "      <th>GD</th>\n",
       "      <th>Pts</th>\n",
       "      <th>Pts/MP</th>\n",
       "      <th>xG</th>\n",
       "      <th>xGA</th>\n",
       "      <th>xGD</th>\n",
       "      <th>xGD/90</th>\n",
       "      <th>Attendance</th>\n",
       "      <th>Goalkeeper</th>\n",
       "      <th>Top Scorer (Name)</th>\n",
       "      <th>Top Scorer (Goals)</th>\n",
       "    </tr>\n",
       "  </thead>\n",
       "  <tbody>\n",
       "    <tr>\n",
       "      <th>0</th>\n",
       "      <td>1</td>\n",
       "      <td>Manchester City</td>\n",
       "      <td>38</td>\n",
       "      <td>29</td>\n",
       "      <td>6</td>\n",
       "      <td>3</td>\n",
       "      <td>99</td>\n",
       "      <td>26</td>\n",
       "      <td>73</td>\n",
       "      <td>93</td>\n",
       "      <td>2.45</td>\n",
       "      <td>89.0</td>\n",
       "      <td>27.2</td>\n",
       "      <td>61.9</td>\n",
       "      <td>1.63</td>\n",
       "      <td>52774</td>\n",
       "      <td>Ederson</td>\n",
       "      <td>Kevin De Bruyne</td>\n",
       "      <td>15</td>\n",
       "    </tr>\n",
       "    <tr>\n",
       "      <th>1</th>\n",
       "      <td>2</td>\n",
       "      <td>Liverpool</td>\n",
       "      <td>38</td>\n",
       "      <td>28</td>\n",
       "      <td>8</td>\n",
       "      <td>2</td>\n",
       "      <td>94</td>\n",
       "      <td>26</td>\n",
       "      <td>68</td>\n",
       "      <td>92</td>\n",
       "      <td>2.42</td>\n",
       "      <td>89.2</td>\n",
       "      <td>34.3</td>\n",
       "      <td>55.0</td>\n",
       "      <td>1.45</td>\n",
       "      <td>53352</td>\n",
       "      <td>Alisson</td>\n",
       "      <td>Mohamed Salah</td>\n",
       "      <td>23</td>\n",
       "    </tr>\n",
       "    <tr>\n",
       "      <th>2</th>\n",
       "      <td>3</td>\n",
       "      <td>Chelsea</td>\n",
       "      <td>38</td>\n",
       "      <td>21</td>\n",
       "      <td>11</td>\n",
       "      <td>6</td>\n",
       "      <td>76</td>\n",
       "      <td>33</td>\n",
       "      <td>43</td>\n",
       "      <td>74</td>\n",
       "      <td>1.95</td>\n",
       "      <td>67.2</td>\n",
       "      <td>36.0</td>\n",
       "      <td>31.3</td>\n",
       "      <td>0.82</td>\n",
       "      <td>36443</td>\n",
       "      <td>Edouard Mendy</td>\n",
       "      <td>Mason Mount</td>\n",
       "      <td>11</td>\n",
       "    </tr>\n",
       "    <tr>\n",
       "      <th>3</th>\n",
       "      <td>4</td>\n",
       "      <td>Tottenham</td>\n",
       "      <td>38</td>\n",
       "      <td>22</td>\n",
       "      <td>5</td>\n",
       "      <td>11</td>\n",
       "      <td>69</td>\n",
       "      <td>40</td>\n",
       "      <td>29</td>\n",
       "      <td>71</td>\n",
       "      <td>1.87</td>\n",
       "      <td>65.1</td>\n",
       "      <td>39.4</td>\n",
       "      <td>25.8</td>\n",
       "      <td>0.68</td>\n",
       "      <td>56523</td>\n",
       "      <td>Hugo Lloris</td>\n",
       "      <td>Son Heung-min</td>\n",
       "      <td>23</td>\n",
       "    </tr>\n",
       "    <tr>\n",
       "      <th>4</th>\n",
       "      <td>5</td>\n",
       "      <td>Arsenal</td>\n",
       "      <td>38</td>\n",
       "      <td>22</td>\n",
       "      <td>3</td>\n",
       "      <td>13</td>\n",
       "      <td>61</td>\n",
       "      <td>48</td>\n",
       "      <td>13</td>\n",
       "      <td>69</td>\n",
       "      <td>1.82</td>\n",
       "      <td>59.9</td>\n",
       "      <td>47.1</td>\n",
       "      <td>12.8</td>\n",
       "      <td>0.34</td>\n",
       "      <td>59665</td>\n",
       "      <td>Aaron Ramsdale</td>\n",
       "      <td>Bukayo Saka</td>\n",
       "      <td>11</td>\n",
       "    </tr>\n",
       "  </tbody>\n",
       "</table>\n",
       "</div>"
      ],
      "text/plain": [
       "   Rk            Squad  MP   W   D   L  GF  GA  GD  Pts  Pts/MP    xG   xGA  \\\n",
       "0   1  Manchester City  38  29   6   3  99  26  73   93    2.45  89.0  27.2   \n",
       "1   2        Liverpool  38  28   8   2  94  26  68   92    2.42  89.2  34.3   \n",
       "2   3          Chelsea  38  21  11   6  76  33  43   74    1.95  67.2  36.0   \n",
       "3   4        Tottenham  38  22   5  11  69  40  29   71    1.87  65.1  39.4   \n",
       "4   5          Arsenal  38  22   3  13  61  48  13   69    1.82  59.9  47.1   \n",
       "\n",
       "    xGD  xGD/90  Attendance      Goalkeeper Top Scorer (Name)  \\\n",
       "0  61.9    1.63       52774         Ederson   Kevin De Bruyne   \n",
       "1  55.0    1.45       53352         Alisson     Mohamed Salah   \n",
       "2  31.3    0.82       36443   Edouard Mendy       Mason Mount   \n",
       "3  25.8    0.68       56523     Hugo Lloris     Son Heung-min   \n",
       "4  12.8    0.34       59665  Aaron Ramsdale       Bukayo Saka   \n",
       "\n",
       "  Top Scorer (Goals)  \n",
       "0                 15  \n",
       "1                 23  \n",
       "2                 11  \n",
       "3                 23  \n",
       "4                 11  "
      ]
     },
     "execution_count": 9,
     "metadata": {},
     "output_type": "execute_result"
    }
   ],
   "source": [
    "df.head()"
   ]
  },
  {
   "cell_type": "code",
   "execution_count": 10,
   "metadata": {},
   "outputs": [
    {
     "data": {
      "text/plain": [
       "<matplotlib.collections.PathCollection at 0x206ff44b6a0>"
      ]
     },
     "execution_count": 10,
     "metadata": {},
     "output_type": "execute_result"
    },
    {
     "data": {
      "image/png": "[encoded data removed]",
      "text/plain": [
       "<Figure size 432x288 with 1 Axes>"
      ]
     },
     "metadata": {
      "needs_background": "light"
     },
     "output_type": "display_data"
    }
   ],
   "source": [
    "plt.scatter(df['xG'],df['xGA'])"
   ]
  },
  {
   "cell_type": "code",
   "execution_count": 24,
   "metadata": {},
   "outputs": [
    {
     "data": {
      "image/png": "[encoded data removed]",
      "text/plain": [
       "<Figure size 828.5x720 with 1 Axes>"
      ]
     },
     "metadata": {
      "needs_background": "light"
     },
     "output_type": "display_data"
    }
   ],
   "source": [
    "ax = sns.lmplot(x='xG',y='xGA',hue='Squad',data=df,fit_reg=False,height=10,aspect=1)"
   ]
  },
  {
   "cell_type": "code",
   "execution_count": 10,
   "metadata": {},
   "outputs": [
    {
     "data": {
      "text/plain": [
       "Text(0.5, 0, 'xGD vs aGD')"
      ]
     },
     "execution_count": 10,
     "metadata": {},
     "output_type": "execute_result"
    },
    {
     "data": {
      "image/png": "[encoded data removed]",
      "text/plain": [
       "<Figure size 432x288 with 1 Axes>"
      ]
     },
     "metadata": {
      "needs_background": "light"
     },
     "output_type": "display_data"
    }
   ],
   "source": [
    "plt.plot(df['xGD'],df['Squad'])\n",
    "plt.plot(df['GD'],df['Squad'])\n",
    "plt.ylabel(\"Teams\")\n",
    "plt.xlabel(\"xGD vs aGD\")"
   ]
  }
 ],
 "metadata": {
  "interpreter": {
   "hash": "03bb991457d37ae7114e465a4e1fddf1bc1040c6df8c60b0a6698575164d41d7"
  },
  "kernelspec": {
   "display_name": "Python 3.8.1 64-bit",
   "language": "python",
   "name": "python3"
  },
  "language_info": {
   "codemirror_mode": {
    "name": "ipython",
    "version": 3
   },
   "file_extension": ".py",
   "mimetype": "text/x-python",
   "name": "python",
   "nbconvert_exporter": "python",
   "pygments_lexer": "ipython3",
   "version": "3.8.1"
  },
  "orig_nbformat": 4
 },
 "nbformat": 4,
 "nbformat_minor": 2
}
